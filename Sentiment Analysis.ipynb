{
 "cells": [
  {
   "cell_type": "code",
   "execution_count": 12,
   "id": "4904245c-4bc4-486a-bde6-5d12a77e2b66",
   "metadata": {},
   "outputs": [],
   "source": [
    "import pandas as pd\n",
    "import numpy as np\n",
    "import seaborn as sns"
   ]
  },
  {
   "cell_type": "markdown",
   "id": "953e2344-b036-427c-bcb5-c2c3f6b0a53f",
   "metadata": {},
   "source": [
    "## Lectura de la información"
   ]
  },
  {
   "cell_type": "code",
   "execution_count": 48,
   "id": "06707161-2701-407c-b706-daed9b1a6f99",
   "metadata": {},
   "outputs": [
    {
     "data": {
      "text/html": [
       "<div>\n",
       "<style scoped>\n",
       "    .dataframe tbody tr th:only-of-type {\n",
       "        vertical-align: middle;\n",
       "    }\n",
       "\n",
       "    .dataframe tbody tr th {\n",
       "        vertical-align: top;\n",
       "    }\n",
       "\n",
       "    .dataframe thead th {\n",
       "        text-align: right;\n",
       "    }\n",
       "</style>\n",
       "<table border=\"1\" class=\"dataframe\">\n",
       "  <thead>\n",
       "    <tr style=\"text-align: right;\">\n",
       "      <th></th>\n",
       "      <th>stop_words;</th>\n",
       "    </tr>\n",
       "  </thead>\n",
       "  <tbody>\n",
       "    <tr>\n",
       "      <th>0</th>\n",
       "      <td>a</td>\n",
       "    </tr>\n",
       "    <tr>\n",
       "      <th>1</th>\n",
       "      <td>actualmente</td>\n",
       "    </tr>\n",
       "    <tr>\n",
       "      <th>2</th>\n",
       "      <td>adelante</td>\n",
       "    </tr>\n",
       "    <tr>\n",
       "      <th>3</th>\n",
       "      <td>además</td>\n",
       "    </tr>\n",
       "    <tr>\n",
       "      <th>4</th>\n",
       "      <td>afirmó</td>\n",
       "    </tr>\n",
       "  </tbody>\n",
       "</table>\n",
       "</div>"
      ],
      "text/plain": [
       "   stop_words;\n",
       "0            a\n",
       "1  actualmente\n",
       "2     adelante\n",
       "3       además\n",
       "4       afirmó"
      ]
     },
     "execution_count": 48,
     "metadata": {},
     "output_type": "execute_result"
    }
   ],
   "source": [
    "stop_words = pd.read_csv(\"information/stop_words.csv\")\n",
    "stop_words.head()"
   ]
  },
  {
   "cell_type": "code",
   "execution_count": 6,
   "id": "a64e6a84-aa32-4784-b109-4291c64100c8",
   "metadata": {},
   "outputs": [
    {
     "data": {
      "text/html": [
       "<div>\n",
       "<style scoped>\n",
       "    .dataframe tbody tr th:only-of-type {\n",
       "        vertical-align: middle;\n",
       "    }\n",
       "\n",
       "    .dataframe tbody tr th {\n",
       "        vertical-align: top;\n",
       "    }\n",
       "\n",
       "    .dataframe thead th {\n",
       "        text-align: right;\n",
       "    }\n",
       "</style>\n",
       "<table border=\"1\" class=\"dataframe\">\n",
       "  <thead>\n",
       "    <tr style=\"text-align: right;\">\n",
       "      <th></th>\n",
       "      <th>user</th>\n",
       "      <th>text</th>\n",
       "      <th>date</th>\n",
       "      <th>emotion</th>\n",
       "      <th>sentiment</th>\n",
       "    </tr>\n",
       "  </thead>\n",
       "  <tbody>\n",
       "    <tr>\n",
       "      <th>0</th>\n",
       "      <td>@erreborda</td>\n",
       "      <td>termine bien abrumado después de hoy</td>\n",
       "      <td>Jan 6, 2024 · 2:53 AM UTC</td>\n",
       "      <td>overwhelmed</td>\n",
       "      <td>scared</td>\n",
       "    </tr>\n",
       "    <tr>\n",
       "      <th>1</th>\n",
       "      <td>@shpiderduck</td>\n",
       "      <td>me siento abrumado</td>\n",
       "      <td>Jan 6, 2024 · 2:35 AM UTC</td>\n",
       "      <td>overwhelmed</td>\n",
       "      <td>scared</td>\n",
       "    </tr>\n",
       "    <tr>\n",
       "      <th>2</th>\n",
       "      <td>@Alex_R_art</td>\n",
       "      <td>Me siento un poco abrumado por la cantidad de ...</td>\n",
       "      <td>Jan 6, 2024 · 12:20 AM UTC</td>\n",
       "      <td>overwhelmed</td>\n",
       "      <td>scared</td>\n",
       "    </tr>\n",
       "    <tr>\n",
       "      <th>3</th>\n",
       "      <td>@anggelinaa97</td>\n",
       "      <td>Salvador la única persona que no la ha abrumad...</td>\n",
       "      <td>Jan 5, 2024 · 10:38 PM UTC</td>\n",
       "      <td>overwhelmed</td>\n",
       "      <td>scared</td>\n",
       "    </tr>\n",
       "    <tr>\n",
       "      <th>4</th>\n",
       "      <td>@diegoreyesvqz</td>\n",
       "      <td>Denme un helado o algo que ando full abrumado.</td>\n",
       "      <td>Jan 5, 2024 · 8:38 PM UTC</td>\n",
       "      <td>overwhelmed</td>\n",
       "      <td>scared</td>\n",
       "    </tr>\n",
       "  </tbody>\n",
       "</table>\n",
       "</div>"
      ],
      "text/plain": [
       "             user                                               text  \\\n",
       "0      @erreborda               termine bien abrumado después de hoy   \n",
       "1    @shpiderduck                                 me siento abrumado   \n",
       "2     @Alex_R_art  Me siento un poco abrumado por la cantidad de ...   \n",
       "3   @anggelinaa97  Salvador la única persona que no la ha abrumad...   \n",
       "4  @diegoreyesvqz     Denme un helado o algo que ando full abrumado.   \n",
       "\n",
       "                         date      emotion sentiment  \n",
       "0   Jan 6, 2024 · 2:53 AM UTC  overwhelmed    scared  \n",
       "1   Jan 6, 2024 · 2:35 AM UTC  overwhelmed    scared  \n",
       "2  Jan 6, 2024 · 12:20 AM UTC  overwhelmed    scared  \n",
       "3  Jan 5, 2024 · 10:38 PM UTC  overwhelmed    scared  \n",
       "4   Jan 5, 2024 · 8:38 PM UTC  overwhelmed    scared  "
      ]
     },
     "execution_count": 6,
     "metadata": {},
     "output_type": "execute_result"
    }
   ],
   "source": [
    "sentiment_text = pd.read_csv(\"information/sentiment_analysis_dataset.csv\")\n",
    "sentiment_text.head()"
   ]
  },
  {
   "cell_type": "code",
   "execution_count": 10,
   "id": "d683933b-f4b9-48f1-81a1-a3e64ad268bf",
   "metadata": {},
   "outputs": [
    {
     "data": {
      "text/plain": [
       "user           object\n",
       "text           object\n",
       "date           object\n",
       "emotion      category\n",
       "sentiment    category\n",
       "dtype: object"
      ]
     },
     "execution_count": 10,
     "metadata": {},
     "output_type": "execute_result"
    }
   ],
   "source": [
    "sentiment_text['emotion'] = sentiment_text['emotion'].astype('category')\n",
    "sentiment_text['sentiment'] = sentiment_text['sentiment'].astype('category')\n",
    "sentiment_text.dtypes"
   ]
  },
  {
   "cell_type": "markdown",
   "id": "caf889ec-0176-4a2c-888b-8df32dd8875b",
   "metadata": {},
   "source": [
    "### Entendiendo los datos"
   ]
  },
  {
   "cell_type": "code",
   "execution_count": 39,
   "id": "89ac8ab4-7cb4-4282-a962-d067cea16d8f",
   "metadata": {},
   "outputs": [
    {
     "data": {
      "text/plain": [
       "(2590, 5)"
      ]
     },
     "execution_count": 39,
     "metadata": {},
     "output_type": "execute_result"
    }
   ],
   "source": [
    "sentiment_text.shape"
   ]
  },
  {
   "cell_type": "code",
   "execution_count": 11,
   "id": "58f8801f-ded8-4ac5-baf1-dab7a4c43398",
   "metadata": {},
   "outputs": [
    {
     "data": {
      "text/html": [
       "<div>\n",
       "<style scoped>\n",
       "    .dataframe tbody tr th:only-of-type {\n",
       "        vertical-align: middle;\n",
       "    }\n",
       "\n",
       "    .dataframe tbody tr th {\n",
       "        vertical-align: top;\n",
       "    }\n",
       "\n",
       "    .dataframe thead th {\n",
       "        text-align: right;\n",
       "    }\n",
       "</style>\n",
       "<table border=\"1\" class=\"dataframe\">\n",
       "  <thead>\n",
       "    <tr style=\"text-align: right;\">\n",
       "      <th></th>\n",
       "      <th>user</th>\n",
       "      <th>text</th>\n",
       "      <th>date</th>\n",
       "      <th>emotion</th>\n",
       "      <th>sentiment</th>\n",
       "    </tr>\n",
       "  </thead>\n",
       "  <tbody>\n",
       "    <tr>\n",
       "      <th>count</th>\n",
       "      <td>2590</td>\n",
       "      <td>2590</td>\n",
       "      <td>2590</td>\n",
       "      <td>2590</td>\n",
       "      <td>2590</td>\n",
       "    </tr>\n",
       "    <tr>\n",
       "      <th>unique</th>\n",
       "      <td>2083</td>\n",
       "      <td>2191</td>\n",
       "      <td>949</td>\n",
       "      <td>20</td>\n",
       "      <td>6</td>\n",
       "    </tr>\n",
       "    <tr>\n",
       "      <th>top</th>\n",
       "      <td>@Yaramsi3</td>\n",
       "      <td>Para entender el mundo, lee.  Para entenderte ...</td>\n",
       "      <td>Jan 6, 2024 · 3:38 AM UTC</td>\n",
       "      <td>thankful</td>\n",
       "      <td>peaceful</td>\n",
       "    </tr>\n",
       "    <tr>\n",
       "      <th>freq</th>\n",
       "      <td>12</td>\n",
       "      <td>6</td>\n",
       "      <td>25</td>\n",
       "      <td>150</td>\n",
       "      <td>660</td>\n",
       "    </tr>\n",
       "  </tbody>\n",
       "</table>\n",
       "</div>"
      ],
      "text/plain": [
       "             user                                               text  \\\n",
       "count        2590                                               2590   \n",
       "unique       2083                                               2191   \n",
       "top     @Yaramsi3  Para entender el mundo, lee.  Para entenderte ...   \n",
       "freq           12                                                  6   \n",
       "\n",
       "                             date   emotion sentiment  \n",
       "count                        2590      2590      2590  \n",
       "unique                        949        20         6  \n",
       "top     Jan 6, 2024 · 3:38 AM UTC  thankful  peaceful  \n",
       "freq                           25       150       660  "
      ]
     },
     "execution_count": 11,
     "metadata": {},
     "output_type": "execute_result"
    }
   ],
   "source": [
    "sentiment_text.describe()"
   ]
  },
  {
   "cell_type": "code",
   "execution_count": 21,
   "id": "437df14c-93e6-4940-9395-317881967f47",
   "metadata": {},
   "outputs": [
    {
     "data": {
      "text/plain": [
       "<Axes: xlabel='sentiment', ylabel='Count'>"
      ]
     },
     "execution_count": 21,
     "metadata": {},
     "output_type": "execute_result"
    },
    {
     "data": {
      "image/png": "[encoded data removed]",
      "text/plain": [
       "<Figure size 640x480 with 1 Axes>"
      ]
     },
     "metadata": {},
     "output_type": "display_data"
    }
   ],
   "source": [
    "sns.histplot(sentiment_text, x=\"sentiment\", hue=\"sentiment\")"
   ]
  },
  {
   "cell_type": "code",
   "execution_count": 40,
   "id": "3e50b5e6-6893-44ee-a7ca-162587782a0b",
   "metadata": {},
   "outputs": [
    {
     "name": "stdout",
     "output_type": "stream",
     "text": [
      "{'overwhelmed': 140, 'embarrassed': 130, 'jealous': 140, 'irritated': 140, 'frustrated': 120, 'distant': 130, 'stupid': 90, 'isolated': 120, 'sleepy': 150, 'responsive': 110, 'relaxed': 130, 'loving': 130, 'thankful': 150, 'secure': 140, 'confident': 140, 'successful': 140, 'surprised': 140, 'playful': 130, 'optimistic': 110, 'daring': 110}\n"
     ]
    }
   ],
   "source": [
    "counter_general = {}\n",
    "for sentiment in sentiment_text['emotion']:\n",
    "    if(counter_general.get(sentiment) == None):\n",
    "        counter_general[sentiment] = 0\n",
    "    counter_general[sentiment] = counter_general[sentiment] + 1\n",
    "\n",
    "print(counter_general)"
   ]
  },
  {
   "cell_type": "code",
   "execution_count": 34,
   "id": "ef34febc-9db8-4863-8426-45017076bd02",
   "metadata": {},
   "outputs": [
    {
     "data": {
      "text/plain": [
       "True"
      ]
     },
     "execution_count": 34,
     "metadata": {},
     "output_type": "execute_result"
    }
   ],
   "source": [
    "counter_general.get(\"ddf\") == None"
   ]
  },
  {
   "cell_type": "markdown",
   "id": "e631cdc1-27da-4ad6-87e0-ad76fdcb5a30",
   "metadata": {},
   "source": [
    "### Estandarizando la información"
   ]
  },
  {
   "cell_type": "code",
   "execution_count": 45,
   "id": "b6a5e728-14c1-4603-97bc-18eca55303ce",
   "metadata": {},
   "outputs": [
    {
     "data": {
      "text/html": [
       "<div>\n",
       "<style scoped>\n",
       "    .dataframe tbody tr th:only-of-type {\n",
       "        vertical-align: middle;\n",
       "    }\n",
       "\n",
       "    .dataframe tbody tr th {\n",
       "        vertical-align: top;\n",
       "    }\n",
       "\n",
       "    .dataframe thead th {\n",
       "        text-align: right;\n",
       "    }\n",
       "</style>\n",
       "<table border=\"1\" class=\"dataframe\">\n",
       "  <thead>\n",
       "    <tr style=\"text-align: right;\">\n",
       "      <th></th>\n",
       "      <th>user</th>\n",
       "      <th>text</th>\n",
       "      <th>date</th>\n",
       "      <th>emotion</th>\n",
       "      <th>sentiment</th>\n",
       "    </tr>\n",
       "  </thead>\n",
       "  <tbody>\n",
       "    <tr>\n",
       "      <th>0</th>\n",
       "      <td>@erreborda</td>\n",
       "      <td>termine bien abrumado después de hoy</td>\n",
       "      <td>Jan 6, 2024 · 2:53 AM UTC</td>\n",
       "      <td>overwhelmed</td>\n",
       "      <td>scared</td>\n",
       "    </tr>\n",
       "    <tr>\n",
       "      <th>1</th>\n",
       "      <td>@shpiderduck</td>\n",
       "      <td>me siento abrumado</td>\n",
       "      <td>Jan 6, 2024 · 2:35 AM UTC</td>\n",
       "      <td>overwhelmed</td>\n",
       "      <td>scared</td>\n",
       "    </tr>\n",
       "    <tr>\n",
       "      <th>2</th>\n",
       "      <td>@Alex_R_art</td>\n",
       "      <td>me siento un poco abrumado por la cantidad de ...</td>\n",
       "      <td>Jan 6, 2024 · 12:20 AM UTC</td>\n",
       "      <td>overwhelmed</td>\n",
       "      <td>scared</td>\n",
       "    </tr>\n",
       "    <tr>\n",
       "      <th>3</th>\n",
       "      <td>@anggelinaa97</td>\n",
       "      <td>salvador la única persona que no la ha abrumad...</td>\n",
       "      <td>Jan 5, 2024 · 10:38 PM UTC</td>\n",
       "      <td>overwhelmed</td>\n",
       "      <td>scared</td>\n",
       "    </tr>\n",
       "    <tr>\n",
       "      <th>4</th>\n",
       "      <td>@diegoreyesvqz</td>\n",
       "      <td>denme un helado o algo que ando full abrumado.</td>\n",
       "      <td>Jan 5, 2024 · 8:38 PM UTC</td>\n",
       "      <td>overwhelmed</td>\n",
       "      <td>scared</td>\n",
       "    </tr>\n",
       "  </tbody>\n",
       "</table>\n",
       "</div>"
      ],
      "text/plain": [
       "             user                                               text  \\\n",
       "0      @erreborda               termine bien abrumado después de hoy   \n",
       "1    @shpiderduck                                 me siento abrumado   \n",
       "2     @Alex_R_art  me siento un poco abrumado por la cantidad de ...   \n",
       "3   @anggelinaa97  salvador la única persona que no la ha abrumad...   \n",
       "4  @diegoreyesvqz     denme un helado o algo que ando full abrumado.   \n",
       "\n",
       "                         date      emotion sentiment  \n",
       "0   Jan 6, 2024 · 2:53 AM UTC  overwhelmed    scared  \n",
       "1   Jan 6, 2024 · 2:35 AM UTC  overwhelmed    scared  \n",
       "2  Jan 6, 2024 · 12:20 AM UTC  overwhelmed    scared  \n",
       "3  Jan 5, 2024 · 10:38 PM UTC  overwhelmed    scared  \n",
       "4   Jan 5, 2024 · 8:38 PM UTC  overwhelmed    scared  "
      ]
     },
     "execution_count": 45,
     "metadata": {},
     "output_type": "execute_result"
    }
   ],
   "source": [
    "sentiment_text['text'] = sentiment_text['text'].apply(str.lower)\n",
    "sentiment_text.head()"
   ]
  }
 ],
 "metadata": {
  "kernelspec": {
   "display_name": "konta_env",
   "language": "python",
   "name": "konta_env"
  },
  "language_info": {
   "codemirror_mode": {
    "name": "ipython",
    "version": 3
   },
   "file_extension": ".py",
   "mimetype": "text/x-python",
   "name": "python",
   "nbconvert_exporter": "python",
   "pygments_lexer": "ipython3",
   "version": "3.12.0"
  }
 },
 "nbformat": 4,
 "nbformat_minor": 5
}
